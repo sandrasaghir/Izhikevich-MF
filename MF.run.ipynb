{
 "cells": [
  {
   "cell_type": "code",
   "execution_count": 2,
   "metadata": {},
   "outputs": [],
   "source": [
    "import numpy as np\n",
    "from datetime import datetime\n",
    "import matplotlib.pyplot as plt\n",
    "from MF_class import MF_model\n",
    "from tqdm import tqdm\n",
    "# from Brian_functions import Brian_run\n",
    "import scipy.stats\n",
    "import matplotlib"
   ]
  },
  {
   "cell_type": "code",
   "execution_count": 5,
   "metadata": {},
   "outputs": [],
   "source": [
    "def read_P_data():\n",
    "    \"\"\"\n",
    "    Read fits of the Transfer Functions (TF) for E/I neurons\n",
    "    \"\"\"\n",
    "    f = open('RS_fit_new_thr_Final.txt', 'r')\n",
    "    lines = f.readlines()\n",
    "    PRS=np.zeros(10)\n",
    "    for i in range(0,len(PRS)):\n",
    "        PRS[i]=lines[i]\n",
    "    f.close()\n",
    "\n",
    "\n",
    "    f = open('FS_fit_new_thr_Final.txt', 'r')\n",
    "    lines = f.readlines()\n",
    "    PFS=np.zeros(10)\n",
    "    for i in range(0,len(PRS)):\n",
    "        PFS[i]=lines[i]\n",
    "    f.close()\n",
    "    \n",
    "    return PRS, PFS"
   ]
  },
  {
   "cell_type": "code",
   "execution_count": 7,
   "metadata": {},
   "outputs": [],
   "source": [
    "#Network parameters\n",
    "N1 = 2000; N2 = 8000\n",
    "prbC = 0.05\n",
    "Ki = N1*prbC; Ke = N2*prbC\n",
    "\n",
    "#Izhikevich neurons parameters\n",
    "gizi = 0.04 ; Eizi = -60\n",
    "gize = 0.01; Eize = -65\n",
    "tauize=1; tauizi=1\n",
    "Tve = 1; Tvi = 1\n",
    "\n",
    "#adaptation parameters\n",
    "aFS = 0.; bFS = 0.; cFS = -55; dFS = 0\n",
    "aRS = 1; bRS = 0.; cRS = -65; dRS = 15\n",
    "Tue = 1; Tui = 1\n",
    "\n",
    "#Synaptic current terms\n",
    "Ee = 0; Ei = -80\n",
    "Qe = 1.5; Qi = 5.0\n",
    "Tsyne = 5e-3; Tsyni = 5e-3\n",
    "tause=5e-3; tausi=5e-3\n",
    "\n",
    "#MF integration params\n",
    "nueIni=10; nuiIni=15\n",
    "\n",
    "#Input current\n",
    "Ie = 0; Ii = 0\n",
    "T = 0.005\n",
    "\n",
    "#===========================\n",
    "PRS, PFS = read_P_data()\n",
    "\n",
    "startTime = datetime.now()\n",
    "#Integrations params\n",
    "TotTime = 5.; dt = 0.0001\n",
    "percentage = 0.25\n",
    "nu_test = 10 #10.0\n",
    "nu_ext = np.ones(int(TotTime/dt))*nu_test\n",
    "df = 1e-16\n",
    "feIni = 4; fiIni = 8\n"
   ]
  },
  {
   "cell_type": "code",
   "execution_count": 8,
   "metadata": {},
   "outputs": [],
   "source": [
    "MFparams ={\n",
    "        \"gize\": gize, \"gizi\": gizi, \n",
    "        \"Eize\": Eize, \"Eizi\": Eizi, \n",
    "        \"tauize\": tauize, \"tauizi\": tauizi, \n",
    "        \"Ee\": Ee, \"Ei\": Ei, \n",
    "        \"tause\": tause, \"tausi\": tausi, \n",
    "        \"Qe\": Qe, \"Qi\": Qi, \n",
    "        \"Ke\": N2*prbC, \"Ki\": N1*prbC, \n",
    "        \"PFS\": PFS, \"PRS\": PRS, \n",
    "        \"aRS\": aRS, \"bRS\": bRS, \"dRS\": dRS, \n",
    "        \"T\": T, \"N1\": N1, \"N2\": N2\n",
    "        }\n",
    "        \n",
    "        #Update brian\n",
    "excitatory_params = [N2, Qe, Tve, Ee, Ei, Ie, gize, Eize, aRS, bRS, cRS, dRS, Tue, Tsyne]\n",
    "inhibitory_params = [N1, Qi, Tvi, Ee, Ei, Ii, gizi, Eizi, aFS, bFS, cFS, dFS, Tui, Tsyni]\n",
    "\n",
    "\n",
    "#Run MF integration\n",
    "MF = MF_model(**MFparams)\n",
    "MF.second_order(feIni = feIni, fiIni = fiIni, external_input = nu_ext, TotTime = TotTime, dt = dt, df = df)\n",
    "        "
   ]
  },
  {
   "cell_type": "code",
   "execution_count": 10,
   "metadata": {},
   "outputs": [],
   "source": [
    "\n",
    "MF_times = MF.t2nd; MF_fe = MF.LSfe2nd; MF_fi = MF.LSfi2nd\n",
    "cee = MF.LScee; cii = MF.LScii"
   ]
  }
 ],
 "metadata": {
  "kernelspec": {
   "display_name": "Python 3",
   "language": "python",
   "name": "python3"
  },
  "language_info": {
   "codemirror_mode": {
    "name": "ipython",
    "version": 3
   },
   "file_extension": ".py",
   "mimetype": "text/x-python",
   "name": "python",
   "nbconvert_exporter": "python",
   "pygments_lexer": "ipython3",
   "version": "3.11.4"
  },
  "orig_nbformat": 4,
  "vscode": {
   "interpreter": {
    "hash": "aee8b7b246df8f9039afb4144a1f6fd8d2ca17a180786b69acc140d282b71a49"
   }
  }
 },
 "nbformat": 4,
 "nbformat_minor": 2
}
